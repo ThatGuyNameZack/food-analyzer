{
 "cells": [
  {
   "cell_type": "code",
   "execution_count": 1,
   "id": "040b5361",
   "metadata": {},
   "outputs": [],
   "source": [
    "from ultralytics import YOLO\n"
   ]
  },
  {
   "cell_type": "code",
   "execution_count": 3,
   "id": "7a01e426",
   "metadata": {},
   "outputs": [],
   "source": [
    "model = YOLO(\"train64/weights/best.pt\")"
   ]
  },
  {
   "cell_type": "code",
   "execution_count": 5,
   "id": "ebe819db",
   "metadata": {},
   "outputs": [
    {
     "name": "stdout",
     "output_type": "stream",
     "text": [
      "Ultralytics 8.3.140  Python-3.13.0 torch-2.7.0+cu118 CUDA:0 (NVIDIA GeForce RTX 4060 Laptop GPU, 8188MiB)\n",
      "Model summary (fused): 92 layers, 25,847,287 parameters, 0 gradients, 78.7 GFLOPs\n",
      "\u001b[34m\u001b[1mval: \u001b[0mFast image access  (ping: 0.30.1 ms, read: 60.38.1 MB/s, size: 66.2 KB)\n"
     ]
    },
    {
     "name": "stderr",
     "output_type": "stream",
     "text": [
      "\u001b[34m\u001b[1mval: \u001b[0mScanning C:\\Users\\Tristan\\Documents\\File_Kampus\\Sem_3\\Research\\YOLO TRAINING BUT USING THE DATA THAT RAFI GIVE\\Indonesian-Food-5\\valid\\labels.cache... 1367 images, 12 backgrounds, 0 corrupt: 100%|██████████| 1367/1367 [00:00<?, ?it/s]\n",
      "                 Class     Images  Instances      Box(P          R      mAP50  mAP50-95): 100%|██████████| 86/86 [00:46<00:00,  1.84it/s]\n"
     ]
    },
    {
     "name": "stdout",
     "output_type": "stream",
     "text": [
      "                   all       1367       1737      0.886       0.86      0.897      0.591\n",
      "           Ayam Goreng        114        363      0.585      0.477      0.525      0.216\n",
      "                Burger        109        123      0.921      0.951      0.974      0.696\n",
      "          French Fries        111        135      0.861       0.83      0.883      0.487\n",
      "             Gado-Gado         92         94      0.904      0.894       0.94      0.654\n",
      "           Ikan Goreng         97        114      0.853      0.762      0.819      0.489\n",
      "            Mie Goreng        126        131      0.961      0.953      0.989      0.668\n",
      "           Nasi Goreng        107        111      0.946      0.942       0.97      0.716\n",
      "           Nasi Padang        101        106      0.924      0.877      0.937      0.673\n",
      "                 Pizza        100        132      0.808      0.765      0.811      0.517\n",
      "                 Rawon        100        101      0.944       0.99      0.981       0.67\n",
      "               Rendang         98        100       0.93       0.88      0.923      0.619\n",
      "                  Sate        108        115      0.935      0.913       0.93       0.55\n",
      "                  Soto        111        112      0.943      0.946      0.981      0.732\n",
      "Speed: 0.6ms preprocess, 17.5ms inference, 0.0ms loss, 4.5ms postprocess per image\n",
      "Results saved to \u001b[1mc:\\Users\\Tristan\\runs\\detect\\val4\u001b[0m\n"
     ]
    }
   ],
   "source": [
    "# Evaluate the model on the validation set\n",
    "metrics = model.val(data =\"Indonesian-Food-5/data.yaml\")\n"
   ]
  },
  {
   "cell_type": "code",
   "execution_count": 7,
   "id": "55132466",
   "metadata": {},
   "outputs": [],
   "source": [
    "import numpy as np\n",
    "per_class_f1 = metrics.box.f1 \n",
    "macro_f1 = np.mean(per_class_f1)"
   ]
  },
  {
   "cell_type": "code",
   "execution_count": 9,
   "id": "c09d9553",
   "metadata": {},
   "outputs": [
    {
     "name": "stdout",
     "output_type": "stream",
     "text": [
      "Model Evaluation Results:\n",
      "Precision: 0.8856\n",
      "Recall: 0.8600\n",
      "mAP50: 0.8971\n",
      "mAP50-95: 0.5913\n",
      "Number of classes: 13\n",
      "F1-Score average: 0.8720\n"
     ]
    }
   ],
   "source": [
    "print(\"Model Evaluation Results:\")\n",
    "print(f\"Precision: {metrics.box.mp:.4f}\")\n",
    "print(f\"Recall: {metrics.box.mr:.4f}\")\n",
    "print(f\"mAP50: {metrics.box.map50:.4f}\")\n",
    "print(f\"mAP50-95: {metrics.box.map:.4f}\")\n",
    "print(f\"Number of classes: {metrics.box.nc}\")\n",
    "print(f\"F1-Score average: {macro_f1:.4f}\")"
   ]
  }
 ],
 "metadata": {
  "kernelspec": {
   "display_name": "Python 3",
   "language": "python",
   "name": "python3"
  },
  "language_info": {
   "codemirror_mode": {
    "name": "ipython",
    "version": 3
   },
   "file_extension": ".py",
   "mimetype": "text/x-python",
   "name": "python",
   "nbconvert_exporter": "python",
   "pygments_lexer": "ipython3",
   "version": "3.13.0"
  }
 },
 "nbformat": 4,
 "nbformat_minor": 5
}
